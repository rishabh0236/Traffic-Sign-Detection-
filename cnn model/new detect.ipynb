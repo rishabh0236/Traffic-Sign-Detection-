{
 "cells": [
  {
   "cell_type": "code",
   "execution_count": 1,
   "id": "670d5fd4",
   "metadata": {},
   "outputs": [],
   "source": [
    "import numpy as np\n",
    "import cv2\n",
    "import time \n",
    "import os\n",
    "from tensorflow import keras"
   ]
  },
  {
   "cell_type": "code",
   "execution_count": 2,
   "id": "ead42e39",
   "metadata": {},
   "outputs": [],
   "source": [
    "modelPath = r'C:\\Users\\RISHABH\\bs final project\\Models'\n",
    "model = keras.models.load_model(modelPath+'/TSModel5')\n"
   ]
  },
  {
   "cell_type": "code",
   "execution_count": 3,
   "id": "c320bef1",
   "metadata": {},
   "outputs": [],
   "source": [
    "ImagesFilePath=r'D:\\books\\4th year 2nd sem books\\bs project\\dataset\\scenes'\n",
    "ImageNamePath=os.listdir(ImagesFilePath)\n"
   ]
  },
  {
   "cell_type": "code",
   "execution_count": 4,
   "id": "2d9dc61d",
   "metadata": {},
   "outputs": [],
   "source": [
    "def readImage(imagePath):\n",
    "    img = cv2.imread(ImagesFilePath+'/'+imagePath,1)\n",
    "    img = cv2.resize(img,(500,400))\n",
    "    return img\n",
    "\n",
    "def increaseContrast(img,alpha,beta):\n",
    "\timg=cv2.addWeighted(img,alpha,np.zeros(img.shape,img.dtype),0,beta)\n",
    "\treturn img\n",
    "\n",
    "def returnRedness(img):\n",
    "\tyuv=cv2.cvtColor(img,cv2.COLOR_BGR2YUV)\n",
    "\ty,u,v=cv2.split(yuv)\n",
    "\treturn v\n",
    "\n",
    "def threshold(img):\n",
    "\t_,img=cv2.threshold(img,150,255,cv2.THRESH_BINARY)\n",
    "\treturn img \n",
    "\n",
    "def show(img):\n",
    "\tcv2.imshow('image',img)\n",
    "\tcv2.waitKey(0)\n",
    "\tcv2.destroyAllWindows()\n",
    "\n",
    "def morphology(img,kernelSize=11):\n",
    "\tkernel = np.ones((kernelSize,kernelSize),np.uint8)\n",
    "\topening = cv2.morphologyEx(img, cv2.MORPH_CLOSE, kernel)\n",
    "\treturn opening\n",
    "\n",
    "def findContour(img):\n",
    "\tcontours, hierarchy = cv2.findContours(img,cv2.RETR_TREE,cv2.CHAIN_APPROX_SIMPLE)\n",
    "\treturn contours\n",
    "\n",
    "def findBiggestContour(contours):\n",
    "\tm=0\n",
    "\tc=[cv2.contourArea(i) for i in contours]\n",
    "\treturn contours[c.index(max(c))]\n",
    "\n",
    "def boundaryBox(img,contours):\n",
    "\tx,y,w,h=cv2.boundingRect(contours)\n",
    "\timg=cv2.rectangle(img,(x,y),(x+w,y+h),(0,255,0),2)\n",
    "\tsign=img[y:(y+h) , x:(x+w)]\n",
    "\treturn img,sign\n",
    "\n",
    "def preprocessingImageToClassifier(image=None,imageSize=28,mu=89.64474891080027,std=53.76704014645958):\n",
    "    image = cv2.cvtColor(image,cv2.COLOR_RGB2GRAY)\n",
    "    image = cv2.resize(image,(imageSize,imageSize))\n",
    "    image = (image - mu) / std\n",
    "    image = image.reshape(1,imageSize,imageSize,1)\n",
    "    return image\n",
    "\n",
    "\n",
    "def predict4(sign):\n",
    "\timg=preprocessingImageToClassifier(sign,imageSize=28)\n",
    "\treturn np.argmax(model.predict(img))\n",
    "\n",
    "\n",
    "labelToText={2:\"Sign Board\",1:\"General Board\"}"
   ]
  },
  {
   "cell_type": "code",
   "execution_count": null,
   "id": "3e491167",
   "metadata": {},
   "outputs": [],
   "source": [
    "if __name__ == '__main__':\n",
    "\tfor i in ImageNamePath:\n",
    "\t\ttestCase=readImage(i)\n",
    "\t\timg=np.copy(testCase)\n",
    "\t\ttry:\n",
    "\t\t\timg=returnRedness(img)\n",
    "\t\t\timg=threshold(img)\n",
    "\t\t\timg=morphology(img,11)\n",
    "\t\t\tcontours=findContour(img)\n",
    "\t\t\tbig=findBiggestContour(contours)\n",
    "\t\t\ttestCase,sign=boundaryBox(testCase,big)\n",
    "\t\t\ttic=time.time()\n",
    "\t\t\tprint(\"Image:\",labelToText[predict4(sign)])\n",
    "\t\t\ttoc=time.time()\n",
    "\t\texcept:\n",
    "\t\t\tpass\n",
    "\t\tshow(testCase)\n",
    "\t\tshow(img)"
   ]
  },
  {
   "cell_type": "code",
   "execution_count": null,
   "id": "6ea2aac9",
   "metadata": {},
   "outputs": [],
   "source": []
  },
  {
   "cell_type": "code",
   "execution_count": null,
   "id": "0a03775a",
   "metadata": {},
   "outputs": [],
   "source": []
  },
  {
   "cell_type": "code",
   "execution_count": null,
   "id": "69b0135e",
   "metadata": {},
   "outputs": [],
   "source": []
  }
 ],
 "metadata": {
  "kernelspec": {
   "display_name": "Python 3",
   "language": "python",
   "name": "python3"
  },
  "language_info": {
   "codemirror_mode": {
    "name": "ipython",
    "version": 3
   },
   "file_extension": ".py",
   "mimetype": "text/x-python",
   "name": "python",
   "nbconvert_exporter": "python",
   "pygments_lexer": "ipython3",
   "version": "3.8.8"
  }
 },
 "nbformat": 4,
 "nbformat_minor": 5
}
